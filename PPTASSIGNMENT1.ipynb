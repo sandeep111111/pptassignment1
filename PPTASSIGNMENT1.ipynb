{
 "cells": [
  {
   "cell_type": "code",
   "execution_count": 1,
   "id": "becdf464-fcf0-401d-9d6c-4a4744bcbbf1",
   "metadata": {},
   "outputs": [
    {
     "name": "stdout",
     "output_type": "stream",
     "text": [
      "(0, 1)\n"
     ]
    }
   ],
   "source": [
    "def twoSum(nums, target):\n",
    "    nums2 = nums[:]\n",
    "    nums2.sort()\n",
    "    p1 = 0\n",
    "    p2 = len(nums2)-1\n",
    "    while nums2[p1]+nums2[p2]!=target:\n",
    "        if nums2[p1]+nums2[p2]<target:\n",
    "            p1 += 1\n",
    "        elif nums2[p1]+nums2[p2]>target:\n",
    "            p2 -= 1\n",
    "    return nums.index(nums2[p1]), nums.index(nums2[p2])\n",
    "\n",
    "\n",
    "nums = [2,7,11,15]\n",
    "target = 9\n",
    "print(twoSum(nums,target))"
   ]
  },
  {
   "cell_type": "code",
   "execution_count": 2,
   "id": "ba7dbf17-0004-4668-944c-96cd0da3de50",
   "metadata": {},
   "outputs": [
    {
     "name": "stdout",
     "output_type": "stream",
     "text": [
      "2\n"
     ]
    }
   ],
   "source": [
    "def removeElement(nums, val):\n",
    "    length = 0\n",
    "    for i in range(len(nums)):\n",
    "        if nums[i] != val:\n",
    "            nums[length] = nums[i]\n",
    "            length += 1\n",
    "    return length\n",
    "\n",
    "\n",
    "nums=[3,2,2,3]\n",
    "val=3\n",
    "print(removeElement(nums, val))\n"
   ]
  },
  {
   "cell_type": "code",
   "execution_count": 3,
   "id": "97fbeded-fb4c-4fdc-bb0d-08a0dfaddfc5",
   "metadata": {},
   "outputs": [
    {
     "name": "stdout",
     "output_type": "stream",
     "text": [
      "2\n"
     ]
    }
   ],
   "source": [
    "def searchInsert(nums,target):\n",
    "       for i in range(len(nums)):\n",
    "            if(target<=nums[i]):\n",
    "                return i\n",
    "            \n",
    "            \n",
    "nums = [1,3,5,8]\n",
    "target = 5\n",
    "print(searchInsert(nums,target))"
   ]
  },
  {
   "cell_type": "code",
   "execution_count": 4,
   "id": "1734a733-1540-4db6-b2b1-8d7a3306fbda",
   "metadata": {},
   "outputs": [
    {
     "name": "stdout",
     "output_type": "stream",
     "text": [
      "[1, 2, 4]\n"
     ]
    }
   ],
   "source": [
    "def plusOne(digits):\n",
    "        string =\"\"\n",
    "        result =[]\n",
    "        for d in digits:\n",
    "            string += str(d)\n",
    "        i = int(string) + 1\n",
    "        for w in str(i):\n",
    "            result.append(int(w))\n",
    "        return result\n",
    "    \n",
    "    \n",
    "digits = [1,2,3]\n",
    "print(plusOne(digits))"
   ]
  },
  {
   "cell_type": "code",
   "execution_count": 5,
   "id": "87c427ca-2178-4d10-bb05-edd03a701bcf",
   "metadata": {},
   "outputs": [
    {
     "name": "stdout",
     "output_type": "stream",
     "text": [
      "[1, 2, 2, 3, 5, 6]\n"
     ]
    }
   ],
   "source": [
    "def merge(nums1, m, nums2, n):\n",
    "    i = m - 1\n",
    "    j = n - 1\n",
    "    for last in range(m + n - 1, -1, -1):\n",
    "        if i < 0:\n",
    "            nums1[last] = nums2[j]\n",
    "            j -= 1\n",
    "        elif j < 0:\n",
    "            nums1[last] = nums1[i]\n",
    "            i -= 1\n",
    "        elif nums1[i] < nums2[j]:\n",
    "            nums1[last] = nums2[j]\n",
    "            j -= 1\n",
    "        else:\n",
    "            nums1[last] = nums1[i]\n",
    "            i -= 1\n",
    "    return nums1[:]\n",
    "\n",
    "\n",
    "nums1 = [1,2,3,0,0,0]\n",
    "m = 3\n",
    "nums2 = [2,5,6]\n",
    "n = 3\n",
    "print(merge(nums1, m, nums2, n))"
   ]
  },
  {
   "cell_type": "code",
   "execution_count": 18,
   "id": "50312b81-eb6f-4880-b7dd-11810ef3d465",
   "metadata": {},
   "outputs": [
    {
     "name": "stdout",
     "output_type": "stream",
     "text": [
      "False\n"
     ]
    }
   ],
   "source": [
    "def repeat(nums):\n",
    "    a=False\n",
    "    for i in range(len(nums)):\n",
    "        for j in range(i+1,len(nums)):\n",
    "            if nums[i]==nums[j]:\n",
    "                a=True\n",
    "    return a\n",
    "\n",
    "\n",
    "nums = [1,2,3,4]\n",
    "print(repeat(nums))"
   ]
  },
  {
   "cell_type": "code",
   "execution_count": 21,
   "id": "63c42b88-fcff-456b-ae52-318364fbc6d2",
   "metadata": {},
   "outputs": [
    {
     "name": "stdout",
     "output_type": "stream",
     "text": [
      "Array after pushing all zeros to end of array:\n",
      "[1, 3, 12, 0, 0]\n"
     ]
    }
   ],
   "source": [
    "def pushZerosToEnd(arr, n):\n",
    "    count = 0\n",
    "    for i in range(n):\n",
    "        if arr[i] != 0:\n",
    "            arr[count] = arr[i]\n",
    "            count+=1\n",
    "    while count < n:\n",
    "        arr[count] = 0\n",
    "        count += 1\n",
    "         \n",
    "\n",
    "arr = [0,1,0,3,12]\n",
    "n = len(arr)\n",
    "pushZerosToEnd(arr, n)\n",
    "print(\"Array after pushing all zeros to end of array:\")\n",
    "print(arr)"
   ]
  },
  {
   "cell_type": "code",
   "execution_count": 22,
   "id": "bc29335a-00b7-4f87-b273-9c09d39dc791",
   "metadata": {},
   "outputs": [
    {
     "name": "stdout",
     "output_type": "stream",
     "text": [
      "[2, 3]\n"
     ]
    }
   ],
   "source": [
    "def findErrorNums(nums):\n",
    "\n",
    "    nums.sort()\n",
    "    rep_miss = [] \n",
    "    for i  in range(len(nums)) :\n",
    "        for j in range(i+1, len(nums)) :\n",
    "            \n",
    "            if   nums[i] == nums[j] :\n",
    "                rep_miss.append(nums[i])\n",
    "\n",
    "    for i  in range(1, len(nums)+1) :\n",
    "        if i not in nums :\n",
    "            rep_miss.append(i)\n",
    "\n",
    "    return rep_miss\n",
    "nums = [1,2,2,4]\n",
    "print(findErrorNums(nums))\n"
   ]
  },
  {
   "cell_type": "code",
   "execution_count": null,
   "id": "3aaf142b-993c-46aa-8e3e-8e1c8294da15",
   "metadata": {},
   "outputs": [],
   "source": []
  }
 ],
 "metadata": {
  "kernelspec": {
   "display_name": "Python 3 (ipykernel)",
   "language": "python",
   "name": "python3"
  },
  "language_info": {
   "codemirror_mode": {
    "name": "ipython",
    "version": 3
   },
   "file_extension": ".py",
   "mimetype": "text/x-python",
   "name": "python",
   "nbconvert_exporter": "python",
   "pygments_lexer": "ipython3",
   "version": "3.10.8"
  }
 },
 "nbformat": 4,
 "nbformat_minor": 5
}
